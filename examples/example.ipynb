{
 "cells": [
  {
   "cell_type": "markdown",
   "metadata": {},
   "source": [
    "# Example usage"
   ]
  },
  {
   "cell_type": "markdown",
   "metadata": {},
   "source": [
    "## Setup model class"
   ]
  },
  {
   "cell_type": "code",
   "execution_count": 100,
   "metadata": {},
   "outputs": [],
   "source": [
    "import pandas as pd\n",
    "import numpy as np\n",
    "from sklearn.ensemble import RandomForestClassifier\n",
    "from sklearn.model_selection import train_test_split\n",
    "\n",
    "from mlmodels import (\n",
    "    BaseModel,\n",
    "    DataFrameModelMixin,\n",
    "    infer_from_fit,\n",
    "    ModelMethodColumnInfo,\n",
    ")\n",
    "\n",
    "\n",
    "# Create data frame model class where the feature and target schema are inferred when the model is fitted.\n",
    "@infer_from_fit(\n",
    "    feature_df_schema=True,\n",
    "    target_df_schema=True,\n",
    "    methods_with_features_as_input=['predict'],\n",
    "    validate_input_output_method_list=['predict']\n",
    ")\n",
    "class RandomForestClassifierModel(BaseModel, DataFrameModelMixin):\n",
    "\n",
    "    def __init__(\n",
    "            self,\n",
    "            features,\n",
    "            random_forest_params={'n_estimators': 100, 'max_depth': 30},\n",
    "    ):\n",
    "        super().__init__()\n",
    "        self.features = features\n",
    "        self.target_columns = None,\n",
    "        self.random_forest_params = random_forest_params\n",
    "        self.model = RandomForestClassifier(**random_forest_params)\n",
    "\n",
    "    def fit(self, X, y):\n",
    "        self.model.fit(X[self.features], y)\n",
    "        self.target_columns = y.columns\n",
    "        return self\n",
    "\n",
    "    def predict(self, X):\n",
    "        predictions_array = self.model.predict(X[self.features])\n",
    "        predictions_df = pd.DataFrame(\n",
    "            data=predictions_array, \n",
    "            columns=self.target_columns\n",
    "        )\n",
    "        return predictions_df"
   ]
  },
  {
   "cell_type": "markdown",
   "metadata": {},
   "source": [
    "## Prepare data"
   ]
  },
  {
   "cell_type": "code",
   "execution_count": 101,
   "metadata": {},
   "outputs": [],
   "source": [
    "# Read data\n",
    "csv_url = 'http://archive.ics.uci.edu/ml/machine-learning-databases/wine-quality/winequality-red.csv'\n",
    "data = pd.read_csv(csv_url, sep=';')\n",
    "\n",
    "# Create some categorical features\n",
    "data['group1'] = np.random.choice(3, len(data))\n",
    "data['group2'] = np.random.choice([3, 7], len(data))\n",
    "data['group1'] = data['group1'].astype('int64')\n",
    "data['group2'] = data['group2'].astype('int64')\n",
    "\n",
    "# Split the data into training and test sets. (0.75, 0.25) split.\n",
    "train, test = train_test_split(data)\n",
    "\n",
    "# The predicted column is \"quality\" which is a scalar from [3, 9]\n",
    "train_x = train.drop([\"quality\"], axis=1)\n",
    "test_x = test.drop([\"quality\"], axis=1)\n",
    "train_y = train[[\"quality\"]]\n",
    "test_y = test[[\"quality\"]]"
   ]
  },
  {
   "cell_type": "markdown",
   "metadata": {},
   "source": [
    "## Initialize a model object and set up column information before fitting"
   ]
  },
  {
   "cell_type": "code",
   "execution_count": 102,
   "metadata": {},
   "outputs": [],
   "source": [
    "# Initialize a model\n",
    "model = RandomForestClassifierModel(\n",
    "    features=train_x.columns,\n",
    "    random_forest_params={'n_estimators': 100, 'max_depth': 15},\n",
    ")\n",
    "\n",
    "# Set information about columns\n",
    "model.set_model_method_column_info(\n",
    "    ModelMethodColumnInfo(\n",
    "        'predict',\n",
    "        input_enum_columns=['group1', 'group2'],\n",
    "        output_enum_columns=['quality'],\n",
    "        input_interval_columns=['chlorides', 'free sulfur dioxide'],\n",
    "        input_interval_percent_buffer=30,\n",
    "    )\n",
    ")"
   ]
  },
  {
   "cell_type": "markdown",
   "metadata": {},
   "source": [
    "## Fit and predict"
   ]
  },
  {
   "cell_type": "code",
   "execution_count": 103,
   "metadata": {},
   "outputs": [
    {
     "name": "stderr",
     "output_type": "stream",
     "text": [
      "C:\\Users\\jerav\\AppData\\Local\\Continuum\\anaconda3\\envs\\mlflow\\lib\\site-packages\\ipykernel_launcher.py:35: DataConversionWarning: A column-vector y was passed when a 1d array was expected. Please change the shape of y to (n_samples,), for example using ravel().\n"
     ]
    }
   ],
   "source": [
    "# Fit model, make predictions and evaluate\n",
    "model.fit(train_x, train_y)\n",
    "predicted_qualities = model.predict(test_x)"
   ]
  },
  {
   "cell_type": "markdown",
   "metadata": {},
   "source": [
    "## Examples of schema validation"
   ]
  },
  {
   "cell_type": "markdown",
   "metadata": {},
   "source": [
    "### Model input schema validation\n",
    "If the input dataframe does not match the data frame schema you will get an error.\n",
    "python"
   ]
  },
  {
   "cell_type": "code",
   "execution_count": 104,
   "metadata": {},
   "outputs": [
    {
     "ename": "SchemaError",
     "evalue": "column 'fixed acidity' not in dataframe\n      density  chlorides  alcohol\n1200  0.99458      0.069      9.8\n801   0.99735      0.068     10.0\n887   0.99577      0.066     12.1\n1189  0.99616      0.075      9.6\n633   1.00100      0.105     11.3",
     "output_type": "error",
     "traceback": [
      "\u001b[1;31m---------------------------------------------------------------------------\u001b[0m",
      "\u001b[1;31mSchemaError\u001b[0m                               Traceback (most recent call last)",
      "\u001b[1;32m<ipython-input-104-7eee6ff6ec75>\u001b[0m in \u001b[0;36m<module>\u001b[1;34m\u001b[0m\n\u001b[0;32m      1\u001b[0m \u001b[1;31m# Example of missing features\u001b[0m\u001b[1;33m\u001b[0m\u001b[1;33m\u001b[0m\u001b[1;33m\u001b[0m\u001b[0m\n\u001b[1;32m----> 2\u001b[1;33m \u001b[0mmodel\u001b[0m\u001b[1;33m.\u001b[0m\u001b[0mpredict\u001b[0m\u001b[1;33m(\u001b[0m\u001b[0mtest_x\u001b[0m\u001b[1;33m[\u001b[0m\u001b[1;33m[\u001b[0m\u001b[1;34m\"density\"\u001b[0m\u001b[1;33m,\u001b[0m \u001b[1;34m\"chlorides\"\u001b[0m\u001b[1;33m,\u001b[0m \u001b[1;34m\"alcohol\"\u001b[0m\u001b[1;33m]\u001b[0m\u001b[1;33m]\u001b[0m\u001b[1;33m)\u001b[0m\u001b[1;33m\u001b[0m\u001b[1;33m\u001b[0m\u001b[0m\n\u001b[0m",
      "\u001b[1;32mc:\\users\\jerav\\repos\\mlmodels\\mlmodels\\data_frame_model.py\u001b[0m in \u001b[0;36mwrapper\u001b[1;34m(*args)\u001b[0m\n\u001b[0;32m    273\u001b[0m             )\n\u001b[0;32m    274\u001b[0m \u001b[1;33m\u001b[0m\u001b[0m\n\u001b[1;32m--> 275\u001b[1;33m         \u001b[0m_\u001b[0m \u001b[1;33m=\u001b[0m \u001b[0mself_var\u001b[0m\u001b[1;33m.\u001b[0m\u001b[0mmodel_method_schema_dict\u001b[0m\u001b[1;33m[\u001b[0m\u001b[0mfunc\u001b[0m\u001b[1;33m.\u001b[0m\u001b[0m__name__\u001b[0m\u001b[1;33m]\u001b[0m\u001b[1;33m.\u001b[0m\u001b[0minput_schema\u001b[0m\u001b[1;33m.\u001b[0m\u001b[0mvalidate_df\u001b[0m\u001b[1;33m(\u001b[0m\u001b[0mdf\u001b[0m\u001b[1;33m)\u001b[0m\u001b[1;33m\u001b[0m\u001b[1;33m\u001b[0m\u001b[0m\n\u001b[0m\u001b[0;32m    276\u001b[0m \u001b[1;33m\u001b[0m\u001b[0m\n\u001b[0;32m    277\u001b[0m         \u001b[0mreturn_values\u001b[0m \u001b[1;33m=\u001b[0m \u001b[0mfunc\u001b[0m\u001b[1;33m(\u001b[0m\u001b[1;33m*\u001b[0m\u001b[0margs\u001b[0m\u001b[1;33m)\u001b[0m\u001b[1;33m\u001b[0m\u001b[1;33m\u001b[0m\u001b[0m\n",
      "\u001b[1;32mc:\\users\\jerav\\repos\\mlmodels\\mlmodels\\data_frame_schema.py\u001b[0m in \u001b[0;36mvalidate_df\u001b[1;34m(self, df)\u001b[0m\n\u001b[0;32m    153\u001b[0m             \u001b[0mValidated\u001b[0m \u001b[0mdata\u001b[0m \u001b[0mframe\u001b[0m\u001b[1;33m\u001b[0m\u001b[1;33m\u001b[0m\u001b[0m\n\u001b[0;32m    154\u001b[0m         \"\"\"\n\u001b[1;32m--> 155\u001b[1;33m         \u001b[1;32mreturn\u001b[0m \u001b[0mself\u001b[0m\u001b[1;33m.\u001b[0m\u001b[0m_data_frame_schema\u001b[0m\u001b[1;33m.\u001b[0m\u001b[0mvalidate\u001b[0m\u001b[1;33m(\u001b[0m\u001b[0mdf\u001b[0m\u001b[1;33m)\u001b[0m\u001b[1;33m\u001b[0m\u001b[1;33m\u001b[0m\u001b[0m\n\u001b[0m\u001b[0;32m    156\u001b[0m \u001b[1;33m\u001b[0m\u001b[0m\n\u001b[0;32m    157\u001b[0m     \u001b[1;32mdef\u001b[0m \u001b[0m__repr__\u001b[0m\u001b[1;33m(\u001b[0m\u001b[0mself\u001b[0m\u001b[1;33m)\u001b[0m\u001b[1;33m:\u001b[0m\u001b[1;33m\u001b[0m\u001b[1;33m\u001b[0m\u001b[0m\n",
      "\u001b[1;32m~\\AppData\\Local\\Continuum\\anaconda3\\envs\\mlflow\\lib\\site-packages\\pandera\\schemas.py\u001b[0m in \u001b[0;36mvalidate\u001b[1;34m(self, dataframe, head, tail, sample, random_state)\u001b[0m\n\u001b[0;32m    222\u001b[0m                 raise errors.SchemaError(\n\u001b[0;32m    223\u001b[0m                     \u001b[1;34m\"column '%s' not in dataframe\\n%s\"\u001b[0m \u001b[1;33m%\u001b[0m\u001b[1;33m\u001b[0m\u001b[1;33m\u001b[0m\u001b[0m\n\u001b[1;32m--> 224\u001b[1;33m                     (colname, dataframe.head()))\n\u001b[0m\u001b[0;32m    225\u001b[0m \u001b[1;33m\u001b[0m\u001b[0m\n\u001b[0;32m    226\u001b[0m             \u001b[1;32mif\u001b[0m \u001b[0mcol\u001b[0m\u001b[1;33m.\u001b[0m\u001b[0mcoerce\u001b[0m \u001b[1;32mor\u001b[0m \u001b[0mself\u001b[0m\u001b[1;33m.\u001b[0m\u001b[0mcoerce\u001b[0m\u001b[1;33m:\u001b[0m\u001b[1;33m\u001b[0m\u001b[1;33m\u001b[0m\u001b[0m\n",
      "\u001b[1;31mSchemaError\u001b[0m: column 'fixed acidity' not in dataframe\n      density  chlorides  alcohol\n1200  0.99458      0.069      9.8\n801   0.99735      0.068     10.0\n887   0.99577      0.066     12.1\n1189  0.99616      0.075      9.6\n633   1.00100      0.105     11.3"
     ]
    }
   ],
   "source": [
    "# Example of missing features\n",
    "model.predict(test_x[[\"density\", \"chlorides\", \"alcohol\"]])"
   ]
  },
  {
   "cell_type": "code",
   "execution_count": 105,
   "metadata": {},
   "outputs": [
    {
     "ename": "SchemaError",
     "evalue": "expected series 'density' to have type float64, got int64",
     "output_type": "error",
     "traceback": [
      "\u001b[1;31m---------------------------------------------------------------------------\u001b[0m",
      "\u001b[1;31mSchemaError\u001b[0m                               Traceback (most recent call last)",
      "\u001b[1;32m<ipython-input-105-7408d0033ef6>\u001b[0m in \u001b[0;36m<module>\u001b[1;34m\u001b[0m\n\u001b[0;32m      2\u001b[0m \u001b[0mtest_x_copy\u001b[0m \u001b[1;33m=\u001b[0m \u001b[0mtest_x\u001b[0m\u001b[1;33m.\u001b[0m\u001b[0mcopy\u001b[0m\u001b[1;33m(\u001b[0m\u001b[1;33m)\u001b[0m\u001b[1;33m\u001b[0m\u001b[1;33m\u001b[0m\u001b[0m\n\u001b[0;32m      3\u001b[0m \u001b[0mtest_x_copy\u001b[0m\u001b[1;33m.\u001b[0m\u001b[0mdensity\u001b[0m \u001b[1;33m=\u001b[0m \u001b[0mtest_x_copy\u001b[0m\u001b[1;33m.\u001b[0m\u001b[0mdensity\u001b[0m\u001b[1;33m.\u001b[0m\u001b[0mastype\u001b[0m\u001b[1;33m(\u001b[0m\u001b[1;34m'int64'\u001b[0m\u001b[1;33m)\u001b[0m\u001b[1;33m\u001b[0m\u001b[1;33m\u001b[0m\u001b[0m\n\u001b[1;32m----> 4\u001b[1;33m \u001b[0mmodel\u001b[0m\u001b[1;33m.\u001b[0m\u001b[0mpredict\u001b[0m\u001b[1;33m(\u001b[0m\u001b[0mtest_x_copy\u001b[0m\u001b[1;33m)\u001b[0m\u001b[1;33m\u001b[0m\u001b[1;33m\u001b[0m\u001b[0m\n\u001b[0m",
      "\u001b[1;32mc:\\users\\jerav\\repos\\mlmodels\\mlmodels\\data_frame_model.py\u001b[0m in \u001b[0;36mwrapper\u001b[1;34m(*args)\u001b[0m\n\u001b[0;32m    273\u001b[0m             )\n\u001b[0;32m    274\u001b[0m \u001b[1;33m\u001b[0m\u001b[0m\n\u001b[1;32m--> 275\u001b[1;33m         \u001b[0m_\u001b[0m \u001b[1;33m=\u001b[0m \u001b[0mself_var\u001b[0m\u001b[1;33m.\u001b[0m\u001b[0mmodel_method_schema_dict\u001b[0m\u001b[1;33m[\u001b[0m\u001b[0mfunc\u001b[0m\u001b[1;33m.\u001b[0m\u001b[0m__name__\u001b[0m\u001b[1;33m]\u001b[0m\u001b[1;33m.\u001b[0m\u001b[0minput_schema\u001b[0m\u001b[1;33m.\u001b[0m\u001b[0mvalidate_df\u001b[0m\u001b[1;33m(\u001b[0m\u001b[0mdf\u001b[0m\u001b[1;33m)\u001b[0m\u001b[1;33m\u001b[0m\u001b[1;33m\u001b[0m\u001b[0m\n\u001b[0m\u001b[0;32m    276\u001b[0m \u001b[1;33m\u001b[0m\u001b[0m\n\u001b[0;32m    277\u001b[0m         \u001b[0mreturn_values\u001b[0m \u001b[1;33m=\u001b[0m \u001b[0mfunc\u001b[0m\u001b[1;33m(\u001b[0m\u001b[1;33m*\u001b[0m\u001b[0margs\u001b[0m\u001b[1;33m)\u001b[0m\u001b[1;33m\u001b[0m\u001b[1;33m\u001b[0m\u001b[0m\n",
      "\u001b[1;32mc:\\users\\jerav\\repos\\mlmodels\\mlmodels\\data_frame_schema.py\u001b[0m in \u001b[0;36mvalidate_df\u001b[1;34m(self, df)\u001b[0m\n\u001b[0;32m    153\u001b[0m             \u001b[0mValidated\u001b[0m \u001b[0mdata\u001b[0m \u001b[0mframe\u001b[0m\u001b[1;33m\u001b[0m\u001b[1;33m\u001b[0m\u001b[0m\n\u001b[0;32m    154\u001b[0m         \"\"\"\n\u001b[1;32m--> 155\u001b[1;33m         \u001b[1;32mreturn\u001b[0m \u001b[0mself\u001b[0m\u001b[1;33m.\u001b[0m\u001b[0m_data_frame_schema\u001b[0m\u001b[1;33m.\u001b[0m\u001b[0mvalidate\u001b[0m\u001b[1;33m(\u001b[0m\u001b[0mdf\u001b[0m\u001b[1;33m)\u001b[0m\u001b[1;33m\u001b[0m\u001b[1;33m\u001b[0m\u001b[0m\n\u001b[0m\u001b[0;32m    156\u001b[0m \u001b[1;33m\u001b[0m\u001b[0m\n\u001b[0;32m    157\u001b[0m     \u001b[1;32mdef\u001b[0m \u001b[0m__repr__\u001b[0m\u001b[1;33m(\u001b[0m\u001b[0mself\u001b[0m\u001b[1;33m)\u001b[0m\u001b[1;33m:\u001b[0m\u001b[1;33m\u001b[0m\u001b[1;33m\u001b[0m\u001b[0m\n",
      "\u001b[1;32m~\\AppData\\Local\\Continuum\\anaconda3\\envs\\mlflow\\lib\\site-packages\\pandera\\schemas.py\u001b[0m in \u001b[0;36mvalidate\u001b[1;34m(self, dataframe, head, tail, sample, random_state)\u001b[0m\n\u001b[0;32m    241\u001b[0m         assert (\n\u001b[0;32m    242\u001b[0m             all(isinstance(component(dataframe_to_validate), pd.DataFrame)\n\u001b[1;32m--> 243\u001b[1;33m                 for component in schema_components)\n\u001b[0m\u001b[0;32m    244\u001b[0m             and self._check_dataframe(dataframe_to_validate))\n\u001b[0;32m    245\u001b[0m \u001b[1;33m\u001b[0m\u001b[0m\n",
      "\u001b[1;32m~\\AppData\\Local\\Continuum\\anaconda3\\envs\\mlflow\\lib\\site-packages\\pandera\\schemas.py\u001b[0m in \u001b[0;36m<genexpr>\u001b[1;34m(.0)\u001b[0m\n\u001b[0;32m    241\u001b[0m         assert (\n\u001b[0;32m    242\u001b[0m             all(isinstance(component(dataframe_to_validate), pd.DataFrame)\n\u001b[1;32m--> 243\u001b[1;33m                 for component in schema_components)\n\u001b[0m\u001b[0;32m    244\u001b[0m             and self._check_dataframe(dataframe_to_validate))\n\u001b[0;32m    245\u001b[0m \u001b[1;33m\u001b[0m\u001b[0m\n",
      "\u001b[1;32m~\\AppData\\Local\\Continuum\\anaconda3\\envs\\mlflow\\lib\\site-packages\\pandera\\schemas.py\u001b[0m in \u001b[0;36m__call__\u001b[1;34m(self, check_obj)\u001b[0m\n\u001b[0;32m    519\u001b[0m     ) -> Union[pd.DataFrame, pd.Series]:\n\u001b[0;32m    520\u001b[0m         \u001b[1;34m\"\"\"Validate a series or column in a dataframe.\"\"\"\u001b[0m\u001b[1;33m\u001b[0m\u001b[1;33m\u001b[0m\u001b[0m\n\u001b[1;32m--> 521\u001b[1;33m         \u001b[1;32mreturn\u001b[0m \u001b[0mself\u001b[0m\u001b[1;33m.\u001b[0m\u001b[0mvalidate\u001b[0m\u001b[1;33m(\u001b[0m\u001b[0mcheck_obj\u001b[0m\u001b[1;33m)\u001b[0m\u001b[1;33m\u001b[0m\u001b[1;33m\u001b[0m\u001b[0m\n\u001b[0m\u001b[0;32m    522\u001b[0m \u001b[1;33m\u001b[0m\u001b[0m\n\u001b[0;32m    523\u001b[0m     \u001b[1;32mdef\u001b[0m \u001b[0m__eq__\u001b[0m\u001b[1;33m(\u001b[0m\u001b[0mself\u001b[0m\u001b[1;33m,\u001b[0m \u001b[0mother\u001b[0m\u001b[1;33m)\u001b[0m\u001b[1;33m:\u001b[0m\u001b[1;33m\u001b[0m\u001b[1;33m\u001b[0m\u001b[0m\n",
      "\u001b[1;32m~\\AppData\\Local\\Continuum\\anaconda3\\envs\\mlflow\\lib\\site-packages\\pandera\\schema_components.py\u001b[0m in \u001b[0;36mvalidate\u001b[1;34m(self, check_obj)\u001b[0m\n\u001b[0;32m     96\u001b[0m                 check_obj[self.name])\n\u001b[0;32m     97\u001b[0m \u001b[1;33m\u001b[0m\u001b[0m\n\u001b[1;32m---> 98\u001b[1;33m         \u001b[1;32mreturn\u001b[0m \u001b[0msuper\u001b[0m\u001b[1;33m(\u001b[0m\u001b[0mColumn\u001b[0m\u001b[1;33m,\u001b[0m \u001b[0mself\u001b[0m\u001b[1;33m)\u001b[0m\u001b[1;33m.\u001b[0m\u001b[0mvalidate\u001b[0m\u001b[1;33m(\u001b[0m\u001b[0mcheck_obj\u001b[0m\u001b[1;33m)\u001b[0m\u001b[1;33m\u001b[0m\u001b[1;33m\u001b[0m\u001b[0m\n\u001b[0m\u001b[0;32m     99\u001b[0m \u001b[1;33m\u001b[0m\u001b[0m\n\u001b[0;32m    100\u001b[0m     \u001b[1;32mdef\u001b[0m \u001b[0m__repr__\u001b[0m\u001b[1;33m(\u001b[0m\u001b[0mself\u001b[0m\u001b[1;33m)\u001b[0m\u001b[1;33m:\u001b[0m\u001b[1;33m\u001b[0m\u001b[1;33m\u001b[0m\u001b[0m\n",
      "\u001b[1;32m~\\AppData\\Local\\Continuum\\anaconda3\\envs\\mlflow\\lib\\site-packages\\pandera\\schemas.py\u001b[0m in \u001b[0;36mvalidate\u001b[1;34m(self, check_obj)\u001b[0m\n\u001b[0;32m    495\u001b[0m             raise errors.SchemaError(\n\u001b[0;32m    496\u001b[0m                 \u001b[1;34m\"expected series '%s' to have type %s, got %s\"\u001b[0m \u001b[1;33m%\u001b[0m\u001b[1;33m\u001b[0m\u001b[1;33m\u001b[0m\u001b[0m\n\u001b[1;32m--> 497\u001b[1;33m                 (series.name, _dtype, series.dtype))\n\u001b[0m\u001b[0;32m    498\u001b[0m \u001b[1;33m\u001b[0m\u001b[0m\n\u001b[0;32m    499\u001b[0m         \u001b[0mcheck_results\u001b[0m \u001b[1;33m=\u001b[0m \u001b[1;33m[\u001b[0m\u001b[1;33m]\u001b[0m\u001b[1;33m\u001b[0m\u001b[1;33m\u001b[0m\u001b[0m\n",
      "\u001b[1;31mSchemaError\u001b[0m: expected series 'density' to have type float64, got int64"
     ]
    }
   ],
   "source": [
    "# Example of wrong dtype\n",
    "test_x_copy = test_x.copy()\n",
    "test_x_copy.density = test_x_copy.density.astype('int64')\n",
    "model.predict(test_x_copy)"
   ]
  },
  {
   "cell_type": "code",
   "execution_count": 106,
   "metadata": {},
   "outputs": [
    {
     "ename": "SchemaError",
     "evalue": "<Schema Column: 'group1' type=int64> failed element-wise validator 0:\n<Check _isin: isin(frozenset({0, 1, 2}))>\nfailure cases:\n                                                          index  count\nfailure_case                                                          \n100           [1200, 801, 887, 1189, 633, 662, 1414, 547, 14...    400",
     "output_type": "error",
     "traceback": [
      "\u001b[1;31m---------------------------------------------------------------------------\u001b[0m",
      "\u001b[1;31mSchemaError\u001b[0m                               Traceback (most recent call last)",
      "\u001b[1;32m<ipython-input-106-7b4c2e327b2a>\u001b[0m in \u001b[0;36m<module>\u001b[1;34m\u001b[0m\n\u001b[0;32m      2\u001b[0m \u001b[0mtest_x_copy\u001b[0m \u001b[1;33m=\u001b[0m \u001b[0mtest_x\u001b[0m\u001b[1;33m.\u001b[0m\u001b[0mcopy\u001b[0m\u001b[1;33m(\u001b[0m\u001b[1;33m)\u001b[0m\u001b[1;33m\u001b[0m\u001b[1;33m\u001b[0m\u001b[0m\n\u001b[0;32m      3\u001b[0m \u001b[0mtest_x_copy\u001b[0m\u001b[1;33m.\u001b[0m\u001b[0mgroup1\u001b[0m \u001b[1;33m=\u001b[0m \u001b[1;36m100\u001b[0m\u001b[1;33m\u001b[0m\u001b[1;33m\u001b[0m\u001b[0m\n\u001b[1;32m----> 4\u001b[1;33m \u001b[0mmodel\u001b[0m\u001b[1;33m.\u001b[0m\u001b[0mpredict\u001b[0m\u001b[1;33m(\u001b[0m\u001b[0mtest_x_copy\u001b[0m\u001b[1;33m)\u001b[0m\u001b[1;33m\u001b[0m\u001b[1;33m\u001b[0m\u001b[0m\n\u001b[0m",
      "\u001b[1;32mc:\\users\\jerav\\repos\\mlmodels\\mlmodels\\data_frame_model.py\u001b[0m in \u001b[0;36mwrapper\u001b[1;34m(*args)\u001b[0m\n\u001b[0;32m    273\u001b[0m             )\n\u001b[0;32m    274\u001b[0m \u001b[1;33m\u001b[0m\u001b[0m\n\u001b[1;32m--> 275\u001b[1;33m         \u001b[0m_\u001b[0m \u001b[1;33m=\u001b[0m \u001b[0mself_var\u001b[0m\u001b[1;33m.\u001b[0m\u001b[0mmodel_method_schema_dict\u001b[0m\u001b[1;33m[\u001b[0m\u001b[0mfunc\u001b[0m\u001b[1;33m.\u001b[0m\u001b[0m__name__\u001b[0m\u001b[1;33m]\u001b[0m\u001b[1;33m.\u001b[0m\u001b[0minput_schema\u001b[0m\u001b[1;33m.\u001b[0m\u001b[0mvalidate_df\u001b[0m\u001b[1;33m(\u001b[0m\u001b[0mdf\u001b[0m\u001b[1;33m)\u001b[0m\u001b[1;33m\u001b[0m\u001b[1;33m\u001b[0m\u001b[0m\n\u001b[0m\u001b[0;32m    276\u001b[0m \u001b[1;33m\u001b[0m\u001b[0m\n\u001b[0;32m    277\u001b[0m         \u001b[0mreturn_values\u001b[0m \u001b[1;33m=\u001b[0m \u001b[0mfunc\u001b[0m\u001b[1;33m(\u001b[0m\u001b[1;33m*\u001b[0m\u001b[0margs\u001b[0m\u001b[1;33m)\u001b[0m\u001b[1;33m\u001b[0m\u001b[1;33m\u001b[0m\u001b[0m\n",
      "\u001b[1;32mc:\\users\\jerav\\repos\\mlmodels\\mlmodels\\data_frame_schema.py\u001b[0m in \u001b[0;36mvalidate_df\u001b[1;34m(self, df)\u001b[0m\n\u001b[0;32m    153\u001b[0m             \u001b[0mValidated\u001b[0m \u001b[0mdata\u001b[0m \u001b[0mframe\u001b[0m\u001b[1;33m\u001b[0m\u001b[1;33m\u001b[0m\u001b[0m\n\u001b[0;32m    154\u001b[0m         \"\"\"\n\u001b[1;32m--> 155\u001b[1;33m         \u001b[1;32mreturn\u001b[0m \u001b[0mself\u001b[0m\u001b[1;33m.\u001b[0m\u001b[0m_data_frame_schema\u001b[0m\u001b[1;33m.\u001b[0m\u001b[0mvalidate\u001b[0m\u001b[1;33m(\u001b[0m\u001b[0mdf\u001b[0m\u001b[1;33m)\u001b[0m\u001b[1;33m\u001b[0m\u001b[1;33m\u001b[0m\u001b[0m\n\u001b[0m\u001b[0;32m    156\u001b[0m \u001b[1;33m\u001b[0m\u001b[0m\n\u001b[0;32m    157\u001b[0m     \u001b[1;32mdef\u001b[0m \u001b[0m__repr__\u001b[0m\u001b[1;33m(\u001b[0m\u001b[0mself\u001b[0m\u001b[1;33m)\u001b[0m\u001b[1;33m:\u001b[0m\u001b[1;33m\u001b[0m\u001b[1;33m\u001b[0m\u001b[0m\n",
      "\u001b[1;32m~\\AppData\\Local\\Continuum\\anaconda3\\envs\\mlflow\\lib\\site-packages\\pandera\\schemas.py\u001b[0m in \u001b[0;36mvalidate\u001b[1;34m(self, dataframe, head, tail, sample, random_state)\u001b[0m\n\u001b[0;32m    241\u001b[0m         assert (\n\u001b[0;32m    242\u001b[0m             all(isinstance(component(dataframe_to_validate), pd.DataFrame)\n\u001b[1;32m--> 243\u001b[1;33m                 for component in schema_components)\n\u001b[0m\u001b[0;32m    244\u001b[0m             and self._check_dataframe(dataframe_to_validate))\n\u001b[0;32m    245\u001b[0m \u001b[1;33m\u001b[0m\u001b[0m\n",
      "\u001b[1;32m~\\AppData\\Local\\Continuum\\anaconda3\\envs\\mlflow\\lib\\site-packages\\pandera\\schemas.py\u001b[0m in \u001b[0;36m<genexpr>\u001b[1;34m(.0)\u001b[0m\n\u001b[0;32m    241\u001b[0m         assert (\n\u001b[0;32m    242\u001b[0m             all(isinstance(component(dataframe_to_validate), pd.DataFrame)\n\u001b[1;32m--> 243\u001b[1;33m                 for component in schema_components)\n\u001b[0m\u001b[0;32m    244\u001b[0m             and self._check_dataframe(dataframe_to_validate))\n\u001b[0;32m    245\u001b[0m \u001b[1;33m\u001b[0m\u001b[0m\n",
      "\u001b[1;32m~\\AppData\\Local\\Continuum\\anaconda3\\envs\\mlflow\\lib\\site-packages\\pandera\\schemas.py\u001b[0m in \u001b[0;36m__call__\u001b[1;34m(self, check_obj)\u001b[0m\n\u001b[0;32m    519\u001b[0m     ) -> Union[pd.DataFrame, pd.Series]:\n\u001b[0;32m    520\u001b[0m         \u001b[1;34m\"\"\"Validate a series or column in a dataframe.\"\"\"\u001b[0m\u001b[1;33m\u001b[0m\u001b[1;33m\u001b[0m\u001b[0m\n\u001b[1;32m--> 521\u001b[1;33m         \u001b[1;32mreturn\u001b[0m \u001b[0mself\u001b[0m\u001b[1;33m.\u001b[0m\u001b[0mvalidate\u001b[0m\u001b[1;33m(\u001b[0m\u001b[0mcheck_obj\u001b[0m\u001b[1;33m)\u001b[0m\u001b[1;33m\u001b[0m\u001b[1;33m\u001b[0m\u001b[0m\n\u001b[0m\u001b[0;32m    522\u001b[0m \u001b[1;33m\u001b[0m\u001b[0m\n\u001b[0;32m    523\u001b[0m     \u001b[1;32mdef\u001b[0m \u001b[0m__eq__\u001b[0m\u001b[1;33m(\u001b[0m\u001b[0mself\u001b[0m\u001b[1;33m,\u001b[0m \u001b[0mother\u001b[0m\u001b[1;33m)\u001b[0m\u001b[1;33m:\u001b[0m\u001b[1;33m\u001b[0m\u001b[1;33m\u001b[0m\u001b[0m\n",
      "\u001b[1;32m~\\AppData\\Local\\Continuum\\anaconda3\\envs\\mlflow\\lib\\site-packages\\pandera\\schema_components.py\u001b[0m in \u001b[0;36mvalidate\u001b[1;34m(self, check_obj)\u001b[0m\n\u001b[0;32m     96\u001b[0m                 check_obj[self.name])\n\u001b[0;32m     97\u001b[0m \u001b[1;33m\u001b[0m\u001b[0m\n\u001b[1;32m---> 98\u001b[1;33m         \u001b[1;32mreturn\u001b[0m \u001b[0msuper\u001b[0m\u001b[1;33m(\u001b[0m\u001b[0mColumn\u001b[0m\u001b[1;33m,\u001b[0m \u001b[0mself\u001b[0m\u001b[1;33m)\u001b[0m\u001b[1;33m.\u001b[0m\u001b[0mvalidate\u001b[0m\u001b[1;33m(\u001b[0m\u001b[0mcheck_obj\u001b[0m\u001b[1;33m)\u001b[0m\u001b[1;33m\u001b[0m\u001b[1;33m\u001b[0m\u001b[0m\n\u001b[0m\u001b[0;32m     99\u001b[0m \u001b[1;33m\u001b[0m\u001b[0m\n\u001b[0;32m    100\u001b[0m     \u001b[1;32mdef\u001b[0m \u001b[0m__repr__\u001b[0m\u001b[1;33m(\u001b[0m\u001b[0mself\u001b[0m\u001b[1;33m)\u001b[0m\u001b[1;33m:\u001b[0m\u001b[1;33m\u001b[0m\u001b[1;33m\u001b[0m\u001b[0m\n",
      "\u001b[1;32m~\\AppData\\Local\\Continuum\\anaconda3\\envs\\mlflow\\lib\\site-packages\\pandera\\schemas.py\u001b[0m in \u001b[0;36mvalidate\u001b[1;34m(self, check_obj)\u001b[0m\n\u001b[0;32m    508\u001b[0m         \u001b[1;32mfor\u001b[0m \u001b[0mcheck_index\u001b[0m\u001b[1;33m,\u001b[0m \u001b[0mcheck\u001b[0m \u001b[1;32min\u001b[0m \u001b[0menumerate\u001b[0m\u001b[1;33m(\u001b[0m\u001b[0mself\u001b[0m\u001b[1;33m.\u001b[0m\u001b[0mchecks\u001b[0m\u001b[1;33m)\u001b[0m\u001b[1;33m:\u001b[0m\u001b[1;33m\u001b[0m\u001b[1;33m\u001b[0m\u001b[0m\n\u001b[0;32m    509\u001b[0m             check_results.append(\n\u001b[1;32m--> 510\u001b[1;33m                 \u001b[0m_handle_check_results\u001b[0m\u001b[1;33m(\u001b[0m\u001b[0mself\u001b[0m\u001b[1;33m,\u001b[0m \u001b[0mcheck_index\u001b[0m\u001b[1;33m,\u001b[0m \u001b[0mcheck\u001b[0m\u001b[1;33m,\u001b[0m \u001b[1;33m*\u001b[0m\u001b[0mcheck_args\u001b[0m\u001b[1;33m)\u001b[0m\u001b[1;33m\u001b[0m\u001b[1;33m\u001b[0m\u001b[0m\n\u001b[0m\u001b[0;32m    511\u001b[0m             )\n\u001b[0;32m    512\u001b[0m \u001b[1;33m\u001b[0m\u001b[0m\n",
      "\u001b[1;32m~\\AppData\\Local\\Continuum\\anaconda3\\envs\\mlflow\\lib\\site-packages\\pandera\\schemas.py\u001b[0m in \u001b[0;36m_handle_check_results\u001b[1;34m(schema, check_index, check, *check_args)\u001b[0m\n\u001b[0;32m    629\u001b[0m         raise errors.SchemaError(\n\u001b[0;32m    630\u001b[0m             error_formatters.format_vectorized_error_message(\n\u001b[1;32m--> 631\u001b[1;33m                 schema, check, check_index, check_result.failure_cases)\n\u001b[0m\u001b[0;32m    632\u001b[0m         )\n\u001b[0;32m    633\u001b[0m     \u001b[1;32mreturn\u001b[0m \u001b[0mcheck_result\u001b[0m\u001b[1;33m.\u001b[0m\u001b[0mcheck_passed\u001b[0m\u001b[1;33m\u001b[0m\u001b[1;33m\u001b[0m\u001b[0m\n",
      "\u001b[1;31mSchemaError\u001b[0m: <Schema Column: 'group1' type=int64> failed element-wise validator 0:\n<Check _isin: isin(frozenset({0, 1, 2}))>\nfailure cases:\n                                                          index  count\nfailure_case                                                          \n100           [1200, 801, 887, 1189, 633, 662, 1414, 547, 14...    400"
     ]
    }
   ],
   "source": [
    "# Example of wrong categorical value/enum.\n",
    "test_x_copy = test_x.copy()\n",
    "test_x_copy.group1 = 100\n",
    "model.predict(test_x_copy)"
   ]
  },
  {
   "cell_type": "code",
   "execution_count": 107,
   "metadata": {},
   "outputs": [
    {
     "ename": "SchemaError",
     "evalue": "<Schema Column: 'chlorides' type=float64> failed element-wise validator 0:\n<Check _in_range: in_range(-0.16739999999999997, 0.7894)>\nfailure cases:\n                                                          index  count\nfailure_case                                                          \n100.0         [1200, 801, 887, 1189, 633, 662, 1414, 547, 14...    400",
     "output_type": "error",
     "traceback": [
      "\u001b[1;31m---------------------------------------------------------------------------\u001b[0m",
      "\u001b[1;31mSchemaError\u001b[0m                               Traceback (most recent call last)",
      "\u001b[1;32m<ipython-input-107-1403f1d14379>\u001b[0m in \u001b[0;36m<module>\u001b[1;34m\u001b[0m\n\u001b[0;32m      2\u001b[0m \u001b[0mtest_x_copy\u001b[0m \u001b[1;33m=\u001b[0m \u001b[0mtest_x\u001b[0m\u001b[1;33m.\u001b[0m\u001b[0mcopy\u001b[0m\u001b[1;33m(\u001b[0m\u001b[1;33m)\u001b[0m\u001b[1;33m\u001b[0m\u001b[1;33m\u001b[0m\u001b[0m\n\u001b[0;32m      3\u001b[0m \u001b[0mtest_x_copy\u001b[0m\u001b[1;33m.\u001b[0m\u001b[0mchlorides\u001b[0m \u001b[1;33m=\u001b[0m \u001b[1;36m100.0\u001b[0m\u001b[1;33m\u001b[0m\u001b[1;33m\u001b[0m\u001b[0m\n\u001b[1;32m----> 4\u001b[1;33m \u001b[0mmodel\u001b[0m\u001b[1;33m.\u001b[0m\u001b[0mpredict\u001b[0m\u001b[1;33m(\u001b[0m\u001b[0mtest_x_copy\u001b[0m\u001b[1;33m)\u001b[0m\u001b[1;33m\u001b[0m\u001b[1;33m\u001b[0m\u001b[0m\n\u001b[0m",
      "\u001b[1;32mc:\\users\\jerav\\repos\\mlmodels\\mlmodels\\data_frame_model.py\u001b[0m in \u001b[0;36mwrapper\u001b[1;34m(*args)\u001b[0m\n\u001b[0;32m    273\u001b[0m             )\n\u001b[0;32m    274\u001b[0m \u001b[1;33m\u001b[0m\u001b[0m\n\u001b[1;32m--> 275\u001b[1;33m         \u001b[0m_\u001b[0m \u001b[1;33m=\u001b[0m \u001b[0mself_var\u001b[0m\u001b[1;33m.\u001b[0m\u001b[0mmodel_method_schema_dict\u001b[0m\u001b[1;33m[\u001b[0m\u001b[0mfunc\u001b[0m\u001b[1;33m.\u001b[0m\u001b[0m__name__\u001b[0m\u001b[1;33m]\u001b[0m\u001b[1;33m.\u001b[0m\u001b[0minput_schema\u001b[0m\u001b[1;33m.\u001b[0m\u001b[0mvalidate_df\u001b[0m\u001b[1;33m(\u001b[0m\u001b[0mdf\u001b[0m\u001b[1;33m)\u001b[0m\u001b[1;33m\u001b[0m\u001b[1;33m\u001b[0m\u001b[0m\n\u001b[0m\u001b[0;32m    276\u001b[0m \u001b[1;33m\u001b[0m\u001b[0m\n\u001b[0;32m    277\u001b[0m         \u001b[0mreturn_values\u001b[0m \u001b[1;33m=\u001b[0m \u001b[0mfunc\u001b[0m\u001b[1;33m(\u001b[0m\u001b[1;33m*\u001b[0m\u001b[0margs\u001b[0m\u001b[1;33m)\u001b[0m\u001b[1;33m\u001b[0m\u001b[1;33m\u001b[0m\u001b[0m\n",
      "\u001b[1;32mc:\\users\\jerav\\repos\\mlmodels\\mlmodels\\data_frame_schema.py\u001b[0m in \u001b[0;36mvalidate_df\u001b[1;34m(self, df)\u001b[0m\n\u001b[0;32m    153\u001b[0m             \u001b[0mValidated\u001b[0m \u001b[0mdata\u001b[0m \u001b[0mframe\u001b[0m\u001b[1;33m\u001b[0m\u001b[1;33m\u001b[0m\u001b[0m\n\u001b[0;32m    154\u001b[0m         \"\"\"\n\u001b[1;32m--> 155\u001b[1;33m         \u001b[1;32mreturn\u001b[0m \u001b[0mself\u001b[0m\u001b[1;33m.\u001b[0m\u001b[0m_data_frame_schema\u001b[0m\u001b[1;33m.\u001b[0m\u001b[0mvalidate\u001b[0m\u001b[1;33m(\u001b[0m\u001b[0mdf\u001b[0m\u001b[1;33m)\u001b[0m\u001b[1;33m\u001b[0m\u001b[1;33m\u001b[0m\u001b[0m\n\u001b[0m\u001b[0;32m    156\u001b[0m \u001b[1;33m\u001b[0m\u001b[0m\n\u001b[0;32m    157\u001b[0m     \u001b[1;32mdef\u001b[0m \u001b[0m__repr__\u001b[0m\u001b[1;33m(\u001b[0m\u001b[0mself\u001b[0m\u001b[1;33m)\u001b[0m\u001b[1;33m:\u001b[0m\u001b[1;33m\u001b[0m\u001b[1;33m\u001b[0m\u001b[0m\n",
      "\u001b[1;32m~\\AppData\\Local\\Continuum\\anaconda3\\envs\\mlflow\\lib\\site-packages\\pandera\\schemas.py\u001b[0m in \u001b[0;36mvalidate\u001b[1;34m(self, dataframe, head, tail, sample, random_state)\u001b[0m\n\u001b[0;32m    241\u001b[0m         assert (\n\u001b[0;32m    242\u001b[0m             all(isinstance(component(dataframe_to_validate), pd.DataFrame)\n\u001b[1;32m--> 243\u001b[1;33m                 for component in schema_components)\n\u001b[0m\u001b[0;32m    244\u001b[0m             and self._check_dataframe(dataframe_to_validate))\n\u001b[0;32m    245\u001b[0m \u001b[1;33m\u001b[0m\u001b[0m\n",
      "\u001b[1;32m~\\AppData\\Local\\Continuum\\anaconda3\\envs\\mlflow\\lib\\site-packages\\pandera\\schemas.py\u001b[0m in \u001b[0;36m<genexpr>\u001b[1;34m(.0)\u001b[0m\n\u001b[0;32m    241\u001b[0m         assert (\n\u001b[0;32m    242\u001b[0m             all(isinstance(component(dataframe_to_validate), pd.DataFrame)\n\u001b[1;32m--> 243\u001b[1;33m                 for component in schema_components)\n\u001b[0m\u001b[0;32m    244\u001b[0m             and self._check_dataframe(dataframe_to_validate))\n\u001b[0;32m    245\u001b[0m \u001b[1;33m\u001b[0m\u001b[0m\n",
      "\u001b[1;32m~\\AppData\\Local\\Continuum\\anaconda3\\envs\\mlflow\\lib\\site-packages\\pandera\\schemas.py\u001b[0m in \u001b[0;36m__call__\u001b[1;34m(self, check_obj)\u001b[0m\n\u001b[0;32m    519\u001b[0m     ) -> Union[pd.DataFrame, pd.Series]:\n\u001b[0;32m    520\u001b[0m         \u001b[1;34m\"\"\"Validate a series or column in a dataframe.\"\"\"\u001b[0m\u001b[1;33m\u001b[0m\u001b[1;33m\u001b[0m\u001b[0m\n\u001b[1;32m--> 521\u001b[1;33m         \u001b[1;32mreturn\u001b[0m \u001b[0mself\u001b[0m\u001b[1;33m.\u001b[0m\u001b[0mvalidate\u001b[0m\u001b[1;33m(\u001b[0m\u001b[0mcheck_obj\u001b[0m\u001b[1;33m)\u001b[0m\u001b[1;33m\u001b[0m\u001b[1;33m\u001b[0m\u001b[0m\n\u001b[0m\u001b[0;32m    522\u001b[0m \u001b[1;33m\u001b[0m\u001b[0m\n\u001b[0;32m    523\u001b[0m     \u001b[1;32mdef\u001b[0m \u001b[0m__eq__\u001b[0m\u001b[1;33m(\u001b[0m\u001b[0mself\u001b[0m\u001b[1;33m,\u001b[0m \u001b[0mother\u001b[0m\u001b[1;33m)\u001b[0m\u001b[1;33m:\u001b[0m\u001b[1;33m\u001b[0m\u001b[1;33m\u001b[0m\u001b[0m\n",
      "\u001b[1;32m~\\AppData\\Local\\Continuum\\anaconda3\\envs\\mlflow\\lib\\site-packages\\pandera\\schema_components.py\u001b[0m in \u001b[0;36mvalidate\u001b[1;34m(self, check_obj)\u001b[0m\n\u001b[0;32m     96\u001b[0m                 check_obj[self.name])\n\u001b[0;32m     97\u001b[0m \u001b[1;33m\u001b[0m\u001b[0m\n\u001b[1;32m---> 98\u001b[1;33m         \u001b[1;32mreturn\u001b[0m \u001b[0msuper\u001b[0m\u001b[1;33m(\u001b[0m\u001b[0mColumn\u001b[0m\u001b[1;33m,\u001b[0m \u001b[0mself\u001b[0m\u001b[1;33m)\u001b[0m\u001b[1;33m.\u001b[0m\u001b[0mvalidate\u001b[0m\u001b[1;33m(\u001b[0m\u001b[0mcheck_obj\u001b[0m\u001b[1;33m)\u001b[0m\u001b[1;33m\u001b[0m\u001b[1;33m\u001b[0m\u001b[0m\n\u001b[0m\u001b[0;32m     99\u001b[0m \u001b[1;33m\u001b[0m\u001b[0m\n\u001b[0;32m    100\u001b[0m     \u001b[1;32mdef\u001b[0m \u001b[0m__repr__\u001b[0m\u001b[1;33m(\u001b[0m\u001b[0mself\u001b[0m\u001b[1;33m)\u001b[0m\u001b[1;33m:\u001b[0m\u001b[1;33m\u001b[0m\u001b[1;33m\u001b[0m\u001b[0m\n",
      "\u001b[1;32m~\\AppData\\Local\\Continuum\\anaconda3\\envs\\mlflow\\lib\\site-packages\\pandera\\schemas.py\u001b[0m in \u001b[0;36mvalidate\u001b[1;34m(self, check_obj)\u001b[0m\n\u001b[0;32m    508\u001b[0m         \u001b[1;32mfor\u001b[0m \u001b[0mcheck_index\u001b[0m\u001b[1;33m,\u001b[0m \u001b[0mcheck\u001b[0m \u001b[1;32min\u001b[0m \u001b[0menumerate\u001b[0m\u001b[1;33m(\u001b[0m\u001b[0mself\u001b[0m\u001b[1;33m.\u001b[0m\u001b[0mchecks\u001b[0m\u001b[1;33m)\u001b[0m\u001b[1;33m:\u001b[0m\u001b[1;33m\u001b[0m\u001b[1;33m\u001b[0m\u001b[0m\n\u001b[0;32m    509\u001b[0m             check_results.append(\n\u001b[1;32m--> 510\u001b[1;33m                 \u001b[0m_handle_check_results\u001b[0m\u001b[1;33m(\u001b[0m\u001b[0mself\u001b[0m\u001b[1;33m,\u001b[0m \u001b[0mcheck_index\u001b[0m\u001b[1;33m,\u001b[0m \u001b[0mcheck\u001b[0m\u001b[1;33m,\u001b[0m \u001b[1;33m*\u001b[0m\u001b[0mcheck_args\u001b[0m\u001b[1;33m)\u001b[0m\u001b[1;33m\u001b[0m\u001b[1;33m\u001b[0m\u001b[0m\n\u001b[0m\u001b[0;32m    511\u001b[0m             )\n\u001b[0;32m    512\u001b[0m \u001b[1;33m\u001b[0m\u001b[0m\n",
      "\u001b[1;32m~\\AppData\\Local\\Continuum\\anaconda3\\envs\\mlflow\\lib\\site-packages\\pandera\\schemas.py\u001b[0m in \u001b[0;36m_handle_check_results\u001b[1;34m(schema, check_index, check, *check_args)\u001b[0m\n\u001b[0;32m    629\u001b[0m         raise errors.SchemaError(\n\u001b[0;32m    630\u001b[0m             error_formatters.format_vectorized_error_message(\n\u001b[1;32m--> 631\u001b[1;33m                 schema, check, check_index, check_result.failure_cases)\n\u001b[0m\u001b[0;32m    632\u001b[0m         )\n\u001b[0;32m    633\u001b[0m     \u001b[1;32mreturn\u001b[0m \u001b[0mcheck_result\u001b[0m\u001b[1;33m.\u001b[0m\u001b[0mcheck_passed\u001b[0m\u001b[1;33m\u001b[0m\u001b[1;33m\u001b[0m\u001b[0m\n",
      "\u001b[1;31mSchemaError\u001b[0m: <Schema Column: 'chlorides' type=float64> failed element-wise validator 0:\n<Check _in_range: in_range(-0.16739999999999997, 0.7894)>\nfailure cases:\n                                                          index  count\nfailure_case                                                          \n100.0         [1200, 801, 887, 1189, 633, 662, 1414, 547, 14...    400"
     ]
    }
   ],
   "source": [
    "# Example of value outside of accepted interval.\n",
    "test_x_copy = test_x.copy()\n",
    "test_x_copy.chlorides = 100.0\n",
    "model.predict(test_x_copy)"
   ]
  },
  {
   "cell_type": "markdown",
   "metadata": {},
   "source": [
    "## You can specify the schema instead of inferring it."
   ]
  },
  {
   "cell_type": "code",
   "execution_count": 108,
   "metadata": {},
   "outputs": [],
   "source": [
    "from mlmodels import (\n",
    "    Interval,\n",
    "    Column,\n",
    "    DataFrameSchema,\n",
    "    validate_method_input_and_output\n",
    ")"
   ]
  },
  {
   "cell_type": "code",
   "execution_count": 109,
   "metadata": {},
   "outputs": [],
   "source": [
    "class RandomForestClassifierModel(BaseModel, DataFrameModelMixin):\n",
    "\n",
    "    def __init__(\n",
    "            self,\n",
    "            features,\n",
    "            random_forest_params={'n_estimators': 100, 'max_depth': 30},\n",
    "    ):\n",
    "        super().__init__()\n",
    "        self.features = features\n",
    "        self.target_columns = None,\n",
    "        self.random_forest_params = random_forest_params\n",
    "        self.model = RandomForestClassifier(**random_forest_params)\n",
    "\n",
    "    def fit(self, X, y):\n",
    "        self.model.fit(X[self.features], y)\n",
    "        self.target_columns = y.columns\n",
    "        return self\n",
    "    \n",
    "    @validate_method_input_and_output\n",
    "    def predict(self, X):\n",
    "        predictions_array = self.model.predict(X[self.features])\n",
    "        predictions_df = pd.DataFrame(\n",
    "            data=predictions_array, \n",
    "            columns=self.target_columns\n",
    "        )\n",
    "        return predictions_df"
   ]
  },
  {
   "cell_type": "code",
   "execution_count": 110,
   "metadata": {},
   "outputs": [],
   "source": [
    "# Initialize a model\n",
    "model2 = RandomForestClassifierModel(\n",
    "    features=['chlorides', 'group1'],\n",
    "    random_forest_params={'n_estimators': 100, 'max_depth': 15},\n",
    ")"
   ]
  },
  {
   "cell_type": "code",
   "execution_count": 111,
   "metadata": {},
   "outputs": [],
   "source": [
    "input_columns = [\n",
    "            Column(\n",
    "                'chlorides',\n",
    "                dtype='float64',\n",
    "                interval=Interval(-10, 10)\n",
    "            ),\n",
    "            Column(\n",
    "                'group1',\n",
    "                dtype='int64',\n",
    "                enum=[10, 11]\n",
    "            ),\n",
    "        ]\n",
    "\n",
    "predict_input_schema = DataFrameSchema(input_columns)\n",
    "model2.set_model_method_input_schema('predict', predict_input_schema)\n",
    "\n",
    "output_columns = [\n",
    "            Column(\n",
    "                'quality',\n",
    "                dtype='int64',\n",
    "                enum=[ 6, 4, 5, 7, 8, 3]\n",
    "            )\n",
    "]\n",
    "\n",
    "predict_output_schema = DataFrameSchema(output_columns)\n",
    "model2.set_model_method_output_schema('predict', predict_output_schema)"
   ]
  },
  {
   "cell_type": "code",
   "execution_count": 112,
   "metadata": {},
   "outputs": [
    {
     "name": "stderr",
     "output_type": "stream",
     "text": [
      "C:\\Users\\jerav\\AppData\\Local\\Continuum\\anaconda3\\envs\\mlflow\\lib\\site-packages\\ipykernel_launcher.py:35: DataConversionWarning: A column-vector y was passed when a 1d array was expected. Please change the shape of y to (n_samples,), for example using ravel().\n"
     ]
    },
    {
     "data": {
      "text/plain": [
       "<__main__.RandomForestClassifierModel at 0x1e903185c50>"
      ]
     },
     "execution_count": 112,
     "metadata": {},
     "output_type": "execute_result"
    }
   ],
   "source": [
    "model.fit(train_x, train_y)"
   ]
  },
  {
   "cell_type": "code",
   "execution_count": 114,
   "metadata": {},
   "outputs": [
    {
     "data": {
      "text/plain": [
       "{'predict': ModelMethodSchema{method_name: predict,\n",
       " input_schema: DataFrameSchema{columns: {'chlorides': Column{name: chlorides, dtype: float64, enum: None, interval: Interval{start_value: -10, end_value: 10}}, 'group1': Column{name: group1, dtype: int64, enum: [10, 11], interval: None}}},\n",
       " output_schema: DataFrameSchema{columns: {'quality': Column{name: quality, dtype: int64, enum: [6, 4, 5, 7, 8, 3], interval: None}}}}}"
      ]
     },
     "execution_count": 114,
     "metadata": {},
     "output_type": "execute_result"
    }
   ],
   "source": [
    "model2.model_method_schema_dict"
   ]
  },
  {
   "cell_type": "code",
   "execution_count": 113,
   "metadata": {},
   "outputs": [
    {
     "ename": "SchemaError",
     "evalue": "<Schema Column: 'group1' type=int64> failed element-wise validator 0:\n<Check _isin: isin(frozenset({10, 11}))>\nfailure cases:\n                                                          index  count\nfailure_case                                                          \n1             [633, 1414, 547, 395, 885, 929, 978, 935, 408,...    145\n2             [801, 887, 662, 938, 610, 899, 1360, 1562, 233...    143\n0             [1200, 1189, 1467, 481, 235, 945, 587, 687, 59...    112",
     "output_type": "error",
     "traceback": [
      "\u001b[1;31m---------------------------------------------------------------------------\u001b[0m",
      "\u001b[1;31mSchemaError\u001b[0m                               Traceback (most recent call last)",
      "\u001b[1;32m<ipython-input-113-8872b8723de5>\u001b[0m in \u001b[0;36m<module>\u001b[1;34m\u001b[0m\n\u001b[1;32m----> 1\u001b[1;33m \u001b[0mmodel2\u001b[0m\u001b[1;33m.\u001b[0m\u001b[0mpredict\u001b[0m\u001b[1;33m(\u001b[0m\u001b[0mtest_x\u001b[0m\u001b[1;33m)\u001b[0m\u001b[1;33m\u001b[0m\u001b[1;33m\u001b[0m\u001b[0m\n\u001b[0m",
      "\u001b[1;32mc:\\users\\jerav\\repos\\mlmodels\\mlmodels\\data_frame_model.py\u001b[0m in \u001b[0;36mwrapper\u001b[1;34m(*args)\u001b[0m\n\u001b[0;32m    273\u001b[0m             )\n\u001b[0;32m    274\u001b[0m \u001b[1;33m\u001b[0m\u001b[0m\n\u001b[1;32m--> 275\u001b[1;33m         \u001b[0m_\u001b[0m \u001b[1;33m=\u001b[0m \u001b[0mself_var\u001b[0m\u001b[1;33m.\u001b[0m\u001b[0mmodel_method_schema_dict\u001b[0m\u001b[1;33m[\u001b[0m\u001b[0mfunc\u001b[0m\u001b[1;33m.\u001b[0m\u001b[0m__name__\u001b[0m\u001b[1;33m]\u001b[0m\u001b[1;33m.\u001b[0m\u001b[0minput_schema\u001b[0m\u001b[1;33m.\u001b[0m\u001b[0mvalidate_df\u001b[0m\u001b[1;33m(\u001b[0m\u001b[0mdf\u001b[0m\u001b[1;33m)\u001b[0m\u001b[1;33m\u001b[0m\u001b[1;33m\u001b[0m\u001b[0m\n\u001b[0m\u001b[0;32m    276\u001b[0m \u001b[1;33m\u001b[0m\u001b[0m\n\u001b[0;32m    277\u001b[0m         \u001b[0mreturn_values\u001b[0m \u001b[1;33m=\u001b[0m \u001b[0mfunc\u001b[0m\u001b[1;33m(\u001b[0m\u001b[1;33m*\u001b[0m\u001b[0margs\u001b[0m\u001b[1;33m)\u001b[0m\u001b[1;33m\u001b[0m\u001b[1;33m\u001b[0m\u001b[0m\n",
      "\u001b[1;32mc:\\users\\jerav\\repos\\mlmodels\\mlmodels\\data_frame_schema.py\u001b[0m in \u001b[0;36mvalidate_df\u001b[1;34m(self, df)\u001b[0m\n\u001b[0;32m    153\u001b[0m             \u001b[0mValidated\u001b[0m \u001b[0mdata\u001b[0m \u001b[0mframe\u001b[0m\u001b[1;33m\u001b[0m\u001b[1;33m\u001b[0m\u001b[0m\n\u001b[0;32m    154\u001b[0m         \"\"\"\n\u001b[1;32m--> 155\u001b[1;33m         \u001b[1;32mreturn\u001b[0m \u001b[0mself\u001b[0m\u001b[1;33m.\u001b[0m\u001b[0m_data_frame_schema\u001b[0m\u001b[1;33m.\u001b[0m\u001b[0mvalidate\u001b[0m\u001b[1;33m(\u001b[0m\u001b[0mdf\u001b[0m\u001b[1;33m)\u001b[0m\u001b[1;33m\u001b[0m\u001b[1;33m\u001b[0m\u001b[0m\n\u001b[0m\u001b[0;32m    156\u001b[0m \u001b[1;33m\u001b[0m\u001b[0m\n\u001b[0;32m    157\u001b[0m     \u001b[1;32mdef\u001b[0m \u001b[0m__repr__\u001b[0m\u001b[1;33m(\u001b[0m\u001b[0mself\u001b[0m\u001b[1;33m)\u001b[0m\u001b[1;33m:\u001b[0m\u001b[1;33m\u001b[0m\u001b[1;33m\u001b[0m\u001b[0m\n",
      "\u001b[1;32m~\\AppData\\Local\\Continuum\\anaconda3\\envs\\mlflow\\lib\\site-packages\\pandera\\schemas.py\u001b[0m in \u001b[0;36mvalidate\u001b[1;34m(self, dataframe, head, tail, sample, random_state)\u001b[0m\n\u001b[0;32m    241\u001b[0m         assert (\n\u001b[0;32m    242\u001b[0m             all(isinstance(component(dataframe_to_validate), pd.DataFrame)\n\u001b[1;32m--> 243\u001b[1;33m                 for component in schema_components)\n\u001b[0m\u001b[0;32m    244\u001b[0m             and self._check_dataframe(dataframe_to_validate))\n\u001b[0;32m    245\u001b[0m \u001b[1;33m\u001b[0m\u001b[0m\n",
      "\u001b[1;32m~\\AppData\\Local\\Continuum\\anaconda3\\envs\\mlflow\\lib\\site-packages\\pandera\\schemas.py\u001b[0m in \u001b[0;36m<genexpr>\u001b[1;34m(.0)\u001b[0m\n\u001b[0;32m    241\u001b[0m         assert (\n\u001b[0;32m    242\u001b[0m             all(isinstance(component(dataframe_to_validate), pd.DataFrame)\n\u001b[1;32m--> 243\u001b[1;33m                 for component in schema_components)\n\u001b[0m\u001b[0;32m    244\u001b[0m             and self._check_dataframe(dataframe_to_validate))\n\u001b[0;32m    245\u001b[0m \u001b[1;33m\u001b[0m\u001b[0m\n",
      "\u001b[1;32m~\\AppData\\Local\\Continuum\\anaconda3\\envs\\mlflow\\lib\\site-packages\\pandera\\schemas.py\u001b[0m in \u001b[0;36m__call__\u001b[1;34m(self, check_obj)\u001b[0m\n\u001b[0;32m    519\u001b[0m     ) -> Union[pd.DataFrame, pd.Series]:\n\u001b[0;32m    520\u001b[0m         \u001b[1;34m\"\"\"Validate a series or column in a dataframe.\"\"\"\u001b[0m\u001b[1;33m\u001b[0m\u001b[1;33m\u001b[0m\u001b[0m\n\u001b[1;32m--> 521\u001b[1;33m         \u001b[1;32mreturn\u001b[0m \u001b[0mself\u001b[0m\u001b[1;33m.\u001b[0m\u001b[0mvalidate\u001b[0m\u001b[1;33m(\u001b[0m\u001b[0mcheck_obj\u001b[0m\u001b[1;33m)\u001b[0m\u001b[1;33m\u001b[0m\u001b[1;33m\u001b[0m\u001b[0m\n\u001b[0m\u001b[0;32m    522\u001b[0m \u001b[1;33m\u001b[0m\u001b[0m\n\u001b[0;32m    523\u001b[0m     \u001b[1;32mdef\u001b[0m \u001b[0m__eq__\u001b[0m\u001b[1;33m(\u001b[0m\u001b[0mself\u001b[0m\u001b[1;33m,\u001b[0m \u001b[0mother\u001b[0m\u001b[1;33m)\u001b[0m\u001b[1;33m:\u001b[0m\u001b[1;33m\u001b[0m\u001b[1;33m\u001b[0m\u001b[0m\n",
      "\u001b[1;32m~\\AppData\\Local\\Continuum\\anaconda3\\envs\\mlflow\\lib\\site-packages\\pandera\\schema_components.py\u001b[0m in \u001b[0;36mvalidate\u001b[1;34m(self, check_obj)\u001b[0m\n\u001b[0;32m     96\u001b[0m                 check_obj[self.name])\n\u001b[0;32m     97\u001b[0m \u001b[1;33m\u001b[0m\u001b[0m\n\u001b[1;32m---> 98\u001b[1;33m         \u001b[1;32mreturn\u001b[0m \u001b[0msuper\u001b[0m\u001b[1;33m(\u001b[0m\u001b[0mColumn\u001b[0m\u001b[1;33m,\u001b[0m \u001b[0mself\u001b[0m\u001b[1;33m)\u001b[0m\u001b[1;33m.\u001b[0m\u001b[0mvalidate\u001b[0m\u001b[1;33m(\u001b[0m\u001b[0mcheck_obj\u001b[0m\u001b[1;33m)\u001b[0m\u001b[1;33m\u001b[0m\u001b[1;33m\u001b[0m\u001b[0m\n\u001b[0m\u001b[0;32m     99\u001b[0m \u001b[1;33m\u001b[0m\u001b[0m\n\u001b[0;32m    100\u001b[0m     \u001b[1;32mdef\u001b[0m \u001b[0m__repr__\u001b[0m\u001b[1;33m(\u001b[0m\u001b[0mself\u001b[0m\u001b[1;33m)\u001b[0m\u001b[1;33m:\u001b[0m\u001b[1;33m\u001b[0m\u001b[1;33m\u001b[0m\u001b[0m\n",
      "\u001b[1;32m~\\AppData\\Local\\Continuum\\anaconda3\\envs\\mlflow\\lib\\site-packages\\pandera\\schemas.py\u001b[0m in \u001b[0;36mvalidate\u001b[1;34m(self, check_obj)\u001b[0m\n\u001b[0;32m    508\u001b[0m         \u001b[1;32mfor\u001b[0m \u001b[0mcheck_index\u001b[0m\u001b[1;33m,\u001b[0m \u001b[0mcheck\u001b[0m \u001b[1;32min\u001b[0m \u001b[0menumerate\u001b[0m\u001b[1;33m(\u001b[0m\u001b[0mself\u001b[0m\u001b[1;33m.\u001b[0m\u001b[0mchecks\u001b[0m\u001b[1;33m)\u001b[0m\u001b[1;33m:\u001b[0m\u001b[1;33m\u001b[0m\u001b[1;33m\u001b[0m\u001b[0m\n\u001b[0;32m    509\u001b[0m             check_results.append(\n\u001b[1;32m--> 510\u001b[1;33m                 \u001b[0m_handle_check_results\u001b[0m\u001b[1;33m(\u001b[0m\u001b[0mself\u001b[0m\u001b[1;33m,\u001b[0m \u001b[0mcheck_index\u001b[0m\u001b[1;33m,\u001b[0m \u001b[0mcheck\u001b[0m\u001b[1;33m,\u001b[0m \u001b[1;33m*\u001b[0m\u001b[0mcheck_args\u001b[0m\u001b[1;33m)\u001b[0m\u001b[1;33m\u001b[0m\u001b[1;33m\u001b[0m\u001b[0m\n\u001b[0m\u001b[0;32m    511\u001b[0m             )\n\u001b[0;32m    512\u001b[0m \u001b[1;33m\u001b[0m\u001b[0m\n",
      "\u001b[1;32m~\\AppData\\Local\\Continuum\\anaconda3\\envs\\mlflow\\lib\\site-packages\\pandera\\schemas.py\u001b[0m in \u001b[0;36m_handle_check_results\u001b[1;34m(schema, check_index, check, *check_args)\u001b[0m\n\u001b[0;32m    629\u001b[0m         raise errors.SchemaError(\n\u001b[0;32m    630\u001b[0m             error_formatters.format_vectorized_error_message(\n\u001b[1;32m--> 631\u001b[1;33m                 schema, check, check_index, check_result.failure_cases)\n\u001b[0m\u001b[0;32m    632\u001b[0m         )\n\u001b[0;32m    633\u001b[0m     \u001b[1;32mreturn\u001b[0m \u001b[0mcheck_result\u001b[0m\u001b[1;33m.\u001b[0m\u001b[0mcheck_passed\u001b[0m\u001b[1;33m\u001b[0m\u001b[1;33m\u001b[0m\u001b[0m\n",
      "\u001b[1;31mSchemaError\u001b[0m: <Schema Column: 'group1' type=int64> failed element-wise validator 0:\n<Check _isin: isin(frozenset({10, 11}))>\nfailure cases:\n                                                          index  count\nfailure_case                                                          \n1             [633, 1414, 547, 395, 885, 929, 978, 935, 408,...    145\n2             [801, 887, 662, 938, 610, 899, 1360, 1562, 233...    143\n0             [1200, 1189, 1467, 481, 235, 945, 587, 687, 59...    112"
     ]
    }
   ],
   "source": [
    "model2.predict(test_x)"
   ]
  }
 ],
 "metadata": {
  "kernelspec": {
   "display_name": "Python [conda env:mlflow]",
   "language": "python",
   "name": "conda-env-mlflow-py"
  },
  "language_info": {
   "codemirror_mode": {
    "name": "ipython",
    "version": 3
   },
   "file_extension": ".py",
   "mimetype": "text/x-python",
   "name": "python",
   "nbconvert_exporter": "python",
   "pygments_lexer": "ipython3",
   "version": "3.6.7"
  }
 },
 "nbformat": 4,
 "nbformat_minor": 4
}
